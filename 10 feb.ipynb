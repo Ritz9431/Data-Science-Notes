{
  "metadata": {
    "language_info": {
      "codemirror_mode": {
        "name": "python",
        "version": 3
      },
      "file_extension": ".py",
      "mimetype": "text/x-python",
      "name": "python",
      "nbconvert_exporter": "python",
      "pygments_lexer": "ipython3",
      "version": "3.8"
    },
    "kernelspec": {
      "name": "python",
      "display_name": "Python (Pyodide)",
      "language": "python"
    }
  },
  "nbformat_minor": 4,
  "nbformat": 4,
  "cells": [
    {
      "cell_type": "markdown",
      "source": "Q1. Which function is used to open a file? What are the different modes of opening a file? Explain each mode\nof file opening.",
      "metadata": {}
    },
    {
      "cell_type": "markdown",
      "source": "The function used to open a file in Python is open().\n\nThe different modes of opening a file are as follows:\n\n'r' - Read mode: This is the default mode. It opens the file for reading. If the file does not exist, it raises a FileNotFoundError error.\n\n'w' - Write mode: It opens the file for writing. If the file already exists, it truncates its contents. If the file does not exist, it creates a new file.\n\n'a' - Append mode: It opens the file for appending. If the file already exists, it appends new data to the end of the file. If the file does not exist, it creates a new file.\n\n'x' - Exclusive creation mode: It opens the file for exclusive creation. If the file already exists, it raises a FileExistsError error. If the file does not exist, it creates a new file.\n\n't' - Text mode: This is the default mode. It opens the file in text mode for reading or writing.\n\n'b' - Binary mode: It opens the file in binary mode for reading or writing.\n\n'+' - Update mode: It opens the file for both reading and writing.\n\nThese modes can be combined to create the desired file opening behavior. For example, 'rb' opens the file in binary mode for reading, and 'w+' opens the file in update mode for reading and writing, and truncates the file if it exists.",
      "metadata": {}
    },
    {
      "cell_type": "markdown",
      "source": "Q2. Why close() function is used? Why is it important to close a file?",
      "metadata": {}
    },
    {
      "cell_type": "markdown",
      "source": "The close() function is used to close a file that has been opened using the open() function in Python. It is important to close a file after you have finished working with it for the following reasons:\n    \n    Resource management\n    \n    Data integrity\n    \n    File locks\n    \n    Portability\n    ",
      "metadata": {}
    },
    {
      "cell_type": "markdown",
      "source": "Q3. Write a python program to create a text file. Write ‘I want to become a Data Scientist’ in that file. Then\nclose the file. Open this file and read the content of the file.",
      "metadata": {}
    },
    {
      "cell_type": "code",
      "source": "# Open the file in write mode\nfile = open('example.txt', 'w')\n\n# Write the content to the file\nfile.write('I want to become a Data Scientist')\n\n# Close the file\nfile.close()\n\n# Open the file in read mode\nfile = open('example.txt', 'r')\n\n# Read the content of the file\ncontent = file.read()\n\n# Close the file\nfile.close()\n\n# Print the content\nprint(content)\n",
      "metadata": {
        "trusted": true
      },
      "execution_count": 1,
      "outputs": [
        {
          "name": "stdout",
          "text": "I want to become a Data Scientist\n",
          "output_type": "stream"
        }
      ]
    },
    {
      "cell_type": "markdown",
      "source": "Q4. Explain the following with python code: read(), readline() and readlines().",
      "metadata": {}
    },
    {
      "cell_type": "markdown",
      "source": "read() reads the entire contents of a file as a single string.\n\nreadline() reads a single line from the file.\n\nreadlines() reads all the lines of a file and returns them as a list of strings.",
      "metadata": {}
    },
    {
      "cell_type": "markdown",
      "source": "Q5. Explain why with statement is used with open(). What is the advantage of using with statement and\nopen() together?",
      "metadata": {}
    },
    {
      "cell_type": "markdown",
      "source": "The with statement is used with the open() function in Python to ensure that the file is properly closed after it is used. It provides a convenient way to handle file operations and automatically takes care of closing the file, even if an exception occurs.\n\nThe advantage of using the with statement with open() is that it guarantees that the file will be closed properly, regardless of any errors or exceptions that may occur during file operations. It helps in avoiding resource leaks and ensures clean and efficient handling of files.",
      "metadata": {}
    },
    {
      "cell_type": "markdown",
      "source": "Q6. Explain the write() and writelines() functions. Give a suitable example.",
      "metadata": {}
    },
    {
      "cell_type": "markdown",
      "source": "The write() function is used to write a string to a file. It takes a single argument, which is the string to be written, and writes it to the file at the current file position. If the file does not exist, it will be created. If it does exist, the existing content will be overwritten. The write() function returns the number of characters written.\n\nHere's an example that demonstrates the usage of the write() function:",
      "metadata": {}
    },
    {
      "cell_type": "code",
      "source": "",
      "metadata": {},
      "execution_count": null,
      "outputs": []
    }
  ]
}