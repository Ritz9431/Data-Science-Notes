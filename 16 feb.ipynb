{
  "metadata": {
    "language_info": {
      "codemirror_mode": {
        "name": "python",
        "version": 3
      },
      "file_extension": ".py",
      "mimetype": "text/x-python",
      "name": "python",
      "nbconvert_exporter": "python",
      "pygments_lexer": "ipython3",
      "version": "3.8"
    },
    "kernelspec": {
      "name": "python",
      "display_name": "Python (Pyodide)",
      "language": "python"
    }
  },
  "nbformat_minor": 4,
  "nbformat": 4,
  "cells": [
    {
      "cell_type": "markdown",
      "source": "Q1. What is a database? Differentiate between SQL and NoSQL databases.",
      "metadata": {}
    },
    {
      "cell_type": "markdown",
      "source": "A database is a structured collection of data that is organized, stored, and managed in a way that allows for efficient retrieval, manipulation, and analysis of the data. It provides a way to store and manage large amounts of structured or unstructured data\nThe main differences between SQL and NoSQL databases lie in their data models, query languages, data consistency, scalability, and suitability for different types of data and workloads. SQL databases provide a structured, relational approach with strong data consistency, while NoSQL databases offer flexibility, scalability, and better handling of unstructured or semi-structured data. The choice between SQL and NoSQL depends on the specific requirements and characteristics of the data and the use case",
      "metadata": {}
    },
    {
      "cell_type": "markdown",
      "source": "Q2. What is DDL? Explain why CREATE, DROP, ALTER, and TRUNCATE are used with an example.",
      "metadata": {}
    },
    {
      "cell_type": "markdown",
      "source": "DDL stands for Data Definition Language. It is a subset of SQL (Structured Query Language) used to define, modify, and manage the structure of the database schema. DDL statements are used to create, alter, and delete database objects such as tables, indexes, views, and constraints.",
      "metadata": {}
    },
    {
      "cell_type": "markdown",
      "source": "CREATE: The CREATE statement is used to create a new database object. For example, to create a new table named \"Customers\" with columns for customer ID, name, and email, the following SQL statement can be used:",
      "metadata": {}
    },
    {
      "cell_type": "markdown",
      "source": "CREATE TABLE Customers (\n    CustomerID INT,\n    Name VARCHAR(50),\n    Email VARCHAR(100)\n);\n",
      "metadata": {}
    },
    {
      "cell_type": "markdown",
      "source": "DROP: The DROP statement is used to delete an existing database object. For example, to drop the \"Customers\" table created earlier, the following SQL statement can be used:\n    DROP TABLE Customers;\n",
      "metadata": {}
    },
    {
      "cell_type": "markdown",
      "source": "ALTER: The ALTER statement is used to modify the structure of an existing database object. It can be used to add, modify, or drop columns, constraints, or indexes. For example, to add a new column named \"Phone\" to the \"Customers\" table, the following SQL statement can be used:\n    \n    ALTER TABLE Customers\nADD Phone VARCHAR(15);\n",
      "metadata": {}
    },
    {
      "cell_type": "markdown",
      "source": "TRUNCATE: The TRUNCATE statement is used to delete all the data from a table while keeping the table structure intact. It is faster than using the DELETE statement as it does not generate individual delete operations for each row. For example, to remove all data from the \"Customers\" table, the following SQL statement can be used:\n    \n    TRUNCATE TABLE Customers;\n",
      "metadata": {}
    },
    {
      "cell_type": "markdown",
      "source": "Q3. What is DML? Explain INSERT, UPDATE, and DELETE with an example.",
      "metadata": {}
    },
    {
      "cell_type": "markdown",
      "source": "DML stands for Data Manipulation Language. It is a subset of SQL (Structured Query Language) used to manipulate data within a database. DML statements are used to insert, update, and delete data in database tables.\n",
      "metadata": {}
    },
    {
      "cell_type": "markdown",
      "source": "INSERT: The INSERT statement is used to add new rows of data into a table. For example, to insert a new record into a table named \"Employees\" with columns for employee ID, name, and salary, the following SQL statement can be used:\n    INSERT INTO Employees (EmployeeID, Name, Salary)\nVALUES (1, 'John Doe', 50000);\n\n\nUPDATE: The UPDATE statement is used to modify existing data within a table. It allows you to change the values of one or more columns in one or more rows. For example, to update the salary of an employee with EmployeeID 1 in the \"Employees\" table, the following SQL statement can be used:\n    \n    UPDATE Employees\nSET Salary = 55000\nWHERE EmployeeID = 1;\n\nDELETE: The DELETE statement is used to remove one or more rows from a table. It allows you to specify conditions to identify the rows to be deleted. For example, to delete all records from the \"Employees\" table where the salary is below a certain threshold, the following SQL statement can be used:\n    \n    DELETE FROM Employees\nWHERE Salary < 50000;\n\n",
      "metadata": {}
    },
    {
      "cell_type": "markdown",
      "source": "Q4. What is DQL? Explain SELECT with an example.",
      "metadata": {}
    },
    {
      "cell_type": "markdown",
      "source": "DQL stands for Data Query Language. It is a subset of SQL (Structured Query Language) used to retrieve data from a database. DQL statements are primarily focused on retrieving and querying data.\nSELECT Name\nFROM Employees\nWHERE Salary > 50000;\n",
      "metadata": {}
    },
    {
      "cell_type": "markdown",
      "source": "Q5. Explain Primary Key and Foreign Key.",
      "metadata": {}
    },
    {
      "cell_type": "markdown",
      "source": "A primary key uniquely identifies each row in a table, while a foreign key establishes a relationship between tables by referencing the primary key of another table. Both primary and foreign keys are essential components of relational databases, ensuring data integrity and enabling the establishment of relationships between tables",
      "metadata": {}
    },
    {
      "cell_type": "markdown",
      "source": "Q6. Write a python code to connect MySQL to python. Explain the cursor() and execute() method.",
      "metadata": {}
    },
    {
      "cell_type": "markdown",
      "source": "import mysql.connector\n\n Establish a connection to the MySQL server\nconnection = mysql.connector.connect(\n    host=\"localhost\",\n    user=\"username\",\n    password=\"password\",\n    database=\"database_name\"\n)\n\n Create a cursor object\ncursor = connection.cursor()\n\n Execute SQL queries\ncursor.execute(\"SELECT * FROM table_name\")\n\n Fetch and print the results\nresults = cursor.fetchall()\nfor row in results:\n    print(row)\n\n Close the cursor and the connection\ncursor.close()\nconnection.close()\n\n\nIn the example code, the cursor is used to execute a SELECT statement (SELECT * FROM table_name). The fetchall() method retrieves all the rows returned by the query. You can also use other fetch methods like fetchone() to fetch one row at a time.",
      "metadata": {}
    },
    {
      "cell_type": "markdown",
      "source": "Q7. Give the order of execution of SQL clauses in an SQL query.",
      "metadata": {}
    },
    {
      "cell_type": "markdown",
      "source": "The order of execution of SQL clauses in an SQL query is as follows:\n\nFROM \n\nWHERE\n\nGROUP BY\n\nHAVING\n\nSELECT\n\nDISTINCT\n\nORDER BY\n\nLIMIT/OFFSET",
      "metadata": {}
    },
    {
      "cell_type": "code",
      "source": "",
      "metadata": {},
      "execution_count": null,
      "outputs": []
    }
  ]
}