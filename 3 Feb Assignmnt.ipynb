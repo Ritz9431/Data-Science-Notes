{
  "metadata": {
    "language_info": {
      "codemirror_mode": {
        "name": "python",
        "version": 3
      },
      "file_extension": ".py",
      "mimetype": "text/x-python",
      "name": "python",
      "nbconvert_exporter": "python",
      "pygments_lexer": "ipython3",
      "version": "3.8"
    },
    "kernelspec": {
      "name": "python",
      "display_name": "Python (Pyodide)",
      "language": "python"
    }
  },
  "nbformat_minor": 4,
  "nbformat": 4,
  "cells": [
    {
      "cell_type": "markdown",
      "source": "Q1) Which keyword is used to create a function? Create a function to return a list of odd numbers in the\nrange of 1 to 25.",
      "metadata": {}
    },
    {
      "cell_type": "markdown",
      "source": "The keyword used to create a function in most programming languages is \"def.\" Here's an example of a Python function that returns a list of odd numbers in the range of 1 to 25:",
      "metadata": {}
    },
    {
      "cell_type": "code",
      "source": "def get_odd_numbers():\n    odd_numbers = []\n    for number in range(1, 26):\n        if number % 2 != 0:\n            odd_numbers.append(number)\n    return odd_numbers",
      "metadata": {
        "trusted": true
      },
      "execution_count": 1,
      "outputs": []
    },
    {
      "cell_type": "markdown",
      "source": "Q2. Why *args and **kwargs is used in some functions? Create a function each for *args and **kwargs to\ndemonstrate their use.",
      "metadata": {}
    },
    {
      "cell_type": "markdown",
      "source": "The `*args` and `**kwargs` syntax are used in Python functions to handle variable-length arguments.\n\n1. `*args` (Non-Keyword Arguments):\n   The `*args` syntax allows a function to accept a variable number of non-keyword arguments. It allows you to pass any number of positional arguments to the function. Inside the function, `args` becomes a tuple that contains all the passed arguments.\n\n   Here's an example function that demonstrates the use of `*args`:\n\n   ```python\n   def greet(*args):\n       for name in args:\n           print(\"Hello,\", name)\n\n   greet(\"Alice\", \"Bob\", \"Charlie\")\n   ```\n\n   Output:\n   ```\n   Hello, Alice\n   Hello, Bob\n   Hello, Charlie\n   ```\n\n   In this example, the `greet` function can accept any number of arguments. The `args` parameter collects all the passed arguments as a tuple, and the function then iterates over the tuple and greets each name individually.\n\n2. `**kwargs` (Keyword Arguments):\n   The `**kwargs` syntax allows a function to accept a variable number of keyword arguments. It allows you to pass any number of keyword arguments to the function. Inside the function, `kwargs` becomes a dictionary that contains all the passed keyword arguments.\n\n   Here's an example function that demonstrates the use of `**kwargs`:\n\n   ```python\n   def print_info(**kwargs):\n       for key, value in kwargs.items():\n           print(key + \":\", value)\n\n   print_info(name=\"Alice\", age=25, city=\"New York\")\n   ```\n\n   Output:\n   ```\n   name: Alice\n   age: 25\n   city: New York\n   ```\n\n   In this example, the `print_info` function can accept any number of keyword arguments. The `kwargs` parameter collects all the passed keyword arguments as a dictionary. The function then iterates over the dictionary and prints each key-value pair.\n\nBoth `*args` and `**kwargs` provide flexibility when you don't know in advance how many arguments will be passed to a function or when you want to handle a varying number of arguments.",
      "metadata": {}
    },
    {
      "cell_type": "markdown",
      "source": "Q3. What is an iterator in python? Name the method used to initialise the iterator object and the method\nused for iteration. Use these methods to print the first five elements of the given list [2, 4, 6, 8, 10, 12, 14, 16,\n18, 20].",
      "metadata": {}
    },
    {
      "cell_type": "markdown",
      "source": "In Python, an iterator is an object that implements the iterator protocol, which consists of the __iter__() and __next__() methods. Iterators are used to loop over elements in a collection or sequence, allowing you to access each element one by one without having to know the underlying structure of the collection.",
      "metadata": {}
    },
    {
      "cell_type": "markdown",
      "source": "To initialize an iterator object, you can use the iter() method. This method takes an iterable object as an argument and returns an iterator object associated with that iterable.\n\n",
      "metadata": {}
    },
    {
      "cell_type": "code",
      "source": "my_list = [2, 4, 6, 8, 10, 12, 14, 16, 18, 20]\nmy_iterator = iter(my_list)",
      "metadata": {
        "trusted": true
      },
      "execution_count": 2,
      "outputs": []
    },
    {
      "cell_type": "markdown",
      "source": "Q4. What is a generator function in python? Why yield keyword is used? Give an example of a generator\nfunction.",
      "metadata": {}
    },
    {
      "cell_type": "markdown",
      "source": "In Python, a generator function is a special type of function that generates an iterator when called. It uses the yield keyword to generate values one at a time, allowing you to iterate over a sequence of values without storing them all in memory at once. Generator functions provide an efficient way to generate large sequences or infinite sequences of values.\n\nThe yield keyword is used in a generator function to specify a value to be returned each time the generator is iterated. When the yield statement is encountered, the current state of the generator function is saved, and the yielded value is returned. The generator function remains in a suspended state until the next iteration, where it resumes from where it left off and continues execution.",
      "metadata": {}
    },
    {
      "cell_type": "code",
      "source": "def generate_even_numbers(limit):\n    num = 0\n    while num <= limit:\n        yield num\n        num += 2",
      "metadata": {
        "trusted": true
      },
      "execution_count": 3,
      "outputs": []
    },
    {
      "cell_type": "code",
      "source": "",
      "metadata": {},
      "execution_count": null,
      "outputs": []
    }
  ]
}