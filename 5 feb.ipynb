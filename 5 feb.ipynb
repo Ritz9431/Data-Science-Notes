{
  "metadata": {
    "language_info": {
      "codemirror_mode": {
        "name": "python",
        "version": 3
      },
      "file_extension": ".py",
      "mimetype": "text/x-python",
      "name": "python",
      "nbconvert_exporter": "python",
      "pygments_lexer": "ipython3",
      "version": "3.8"
    },
    "kernelspec": {
      "name": "python",
      "display_name": "Python (Pyodide)",
      "language": "python"
    }
  },
  "nbformat_minor": 4,
  "nbformat": 4,
  "cells": [
    {
      "cell_type": "markdown",
      "source": "Q1. Explain Class and Object with respect to Object-Oriented Programming. Give a suitable example.\n",
      "metadata": {}
    },
    {
      "cell_type": "markdown",
      "source": "In object-oriented programming (OOP), a class is a blueprint or a template that defines the structure and behavior of objects. It serves as a blueprint for creating objects of a particular type. A class encapsulates data (attributes) and behaviors (methods) that the objects of that class can exhibit.\n\nOn the other hand, an object is an instance of a class. It is a specific realization or occurrence of a class with its unique state and behavior. An object is created based on the definition provided by its class. It can access and modify the attributes of its class and can execute the methods defined within the class.",
      "metadata": {}
    },
    {
      "cell_type": "code",
      "source": "# Class definition\nclass Car:\n    def __init__(self, brand, model):\n        self.brand = brand\n        self.model = model\n\n    def drive(self):\n        print(\"The\", self.brand, self.model, \"is being driven.\")\n\n\n# Object creation\nmy_car = Car(\"Toyota\", \"Corolla\")\n\n# Accessing object attributes\nprint(my_car.brand)  # Output: Toyota\nprint(my_car.model)  # Output: Corolla\n\n# Calling object methods\nmy_car.drive()  # Output: The Toyota Corolla is being driven.\n",
      "metadata": {
        "trusted": true
      },
      "execution_count": 1,
      "outputs": [
        {
          "name": "stdout",
          "text": "Toyota\nCorolla\nThe Toyota Corolla is being driven.\n",
          "output_type": "stream"
        }
      ]
    },
    {
      "cell_type": "markdown",
      "source": "Q2. Name the four pillars of OOPs.",
      "metadata": {}
    },
    {
      "cell_type": "markdown",
      "source": "The four pillars of object-oriented programming (OOP) are:\n\nEncapsulation\nInheritance\nPolymorphism\nAbstraction",
      "metadata": {}
    },
    {
      "cell_type": "markdown",
      "source": "Q3. Explain why the __init__() function is used. Give a suitable example.",
      "metadata": {}
    },
    {
      "cell_type": "markdown",
      "source": "The __init__() function is a special method in Python classes that is automatically called when an object of the class is created. It is also known as the constructor method. The primary purpose of the __init__() function is to initialize the attributes of the class or set up the initial state of the object.",
      "metadata": {}
    },
    {
      "cell_type": "code",
      "source": "class Person:\n    def __init__(self, name, age):\n        self.name = name\n        self.age = age\n\n    def display_info(self):\n        print(\"Name:\", self.name)\n        print(\"Age:\", self.age)\n\n\nperson1 = Person(\"Alice\", 25)\nperson2 = Person(\"Bob\", 30)\n\nperson1.display_info()\nperson2.display_info()\n",
      "metadata": {
        "trusted": true
      },
      "execution_count": 3,
      "outputs": [
        {
          "name": "stdout",
          "text": "Name: Alice\nAge: 25\nName: Bob\nAge: 30\n",
          "output_type": "stream"
        }
      ]
    },
    {
      "cell_type": "markdown",
      "source": "Q4. Why self is used in OOPs?",
      "metadata": {}
    },
    {
      "cell_type": "markdown",
      "source": "In object-oriented programming (OOP), self is a conventionally used parameter name that refers to the instance (object) of a class. It represents the current object on which a method is being called. The purpose of using self is to access the attributes and methods of the object within the class.",
      "metadata": {}
    },
    {
      "cell_type": "code",
      "source": "",
      "metadata": {},
      "execution_count": null,
      "outputs": []
    }
  ]
}